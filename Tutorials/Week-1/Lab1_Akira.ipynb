{
 "cells": [
  {
   "cell_type": "markdown",
   "metadata": {},
   "source": [
    "# Elements Of Data Processing (2021S1) - Week 1\n"
   ]
  },
  {
   "cell_type": "markdown",
   "metadata": {},
   "source": [
    "### Welcome:\n",
    "- Tutor: Akira\n",
    "- Times: Thurs 7pm, Fri 3:15pm\n",
    "\n",
    "I strongly recommend you go through the Revision notebooks I have created. It's actually more of a \"learning\" rather than \"revising\" experience..."
   ]
  },
  {
   "cell_type": "markdown",
   "metadata": {},
   "source": [
    "### Getting Started with Jupyter Notebook\n",
    "Jupyter notebook is an extremely useful tool for developing and presenting projects (particularly in python).  You can include code segments and view their output directly in your browser.  You can also add rich text, visualisations, equations and more.\n",
    "\n",
    "The difference between this and Grok (from COMP10001) is that you can run your code line by line (without having to run all of your code at once for an output).\n",
    "\n",
    "### Cells\n",
    "Jupyter notebook contains two main types of cells:\n",
    "- Markdown cells: These can be used to contain text, equations and other non-code items.  The cell that you're reading right now is a markdown cell.  You can use [Markdown](https://www.markdownguide.org/) to format your text.  If you prefer, you can also format your text using <b>HTML</b>.  Clicking the **Run** button will format and display your text.\n",
    "- Code cells: These contain code segments that can be executed individually.  When executed, the output of the code will be displayed below the code cell.\n",
    "\n",
    "### General Tips for Jupyter Notebook\n",
    "Cell Running shortcuts:\n",
    "- `shift + enter` : Run current cell - keyboard shortcut for the <button class='btn btn-default btn-xs'><i class=\"fa-play fa\"></i><span class=\"toolbar-btn-label\">Run</span></button> button\n",
    "- `ctrl + enter` : Run selected cells\n",
    "\n",
    "Command mode (press `esc` to enter):\n",
    "- Enter command mode pressing `esc` (blue highlight)\n",
    "- `a` to create a cell **above**\n",
    "- `b` to create a cell **below**\n",
    "- `dd` (double d) to **delete** a cell\n",
    "- `m` to make the cell render in **markdown**\n",
    "- `r` to make the cell render in **raw** text\n",
    "- `y` to make the cell render python code\n",
    "- `enter` to \"edit\" the cell\n",
    "\n",
    "Code Shortcuts:\n",
    "- `shift + tab` : brings function/method arguments up\n",
    "\n",
    "Magic Cells:\n",
    "```bash\n",
    "%%time # times the cell execution\n",
    "%%bash # allows bash commands (or cmd) to be run\n",
    "%%html # renders html syntax\n",
    "%%writefile script.py # outputs the lines of code into a script of choice\n",
    "%run script.py # runs a script of choice\n",
    "%run -i script.py # runs a script of choice and adds all variables to the notebooks' namespace\n",
    "```"
   ]
  },
  {
   "cell_type": "markdown",
   "metadata": {},
   "source": [
    "### Pandas\n",
    "- One of the most useful and common library for Data Engineers, Data Scientists, and Data Analysts.\n",
    "- Much more powerful for reading data in (in contrast to the `csv` library and `open()`).\n",
    "- Introduces a few new data structures, most commonly the `DataFrame()` which is the equivalent to your Excel Spreadsheet or Database table (however you want to view it)"
   ]
  },
  {
   "cell_type": "code",
   "execution_count": 1,
   "metadata": {},
   "outputs": [],
   "source": [
    "# we rename the library to pd - it's just the common practice (unless you want to retype pandas every time)\n",
    "import pandas as pd\n",
    "import numpy as np\n",
    "\n",
    "# this is a nice way of displaying series and dataframes (use instead of print)\n",
    "from IPython.display import display"
   ]
  },
  {
   "cell_type": "markdown",
   "metadata": {},
   "source": [
    "### Series\n",
    "- The first of the new data structures\n",
    "- It's a 1D array-like object containing the data and an associated array of data labels called index.\n",
    "- This is an index to value relationship (like a `list()` in Python)\n",
    "\n",
    "<img src=\"images/series1.jpg\">\n",
    "\n",
    "To create a Series:\n",
    "- `s = Series(data, index=index)`\n",
    "\n",
    "\n",
    "Where:\n",
    "- `data` is a list/array and `index` is a list/array (by default, it increments from 0)\n",
    "- OR `data` is a dictionary where `index` is obtained through `keys` and `data` from `values`"
   ]
  },
  {
   "cell_type": "markdown",
   "metadata": {},
   "source": [
    "### Creating a Series"
   ]
  },
  {
   "cell_type": "code",
   "execution_count": null,
   "metadata": {},
   "outputs": [],
   "source": [
    "data = [4,3,-5,9,1,7]\n",
    "\n",
    "pd.Series(data)"
   ]
  },
  {
   "cell_type": "code",
   "execution_count": null,
   "metadata": {},
   "outputs": [],
   "source": [
    "data = [4,3,-5,9,1,7]\n",
    "index = range(100, 106)\n",
    "\n",
    "s = pd.Series(data, index)\n",
    "s"
   ]
  },
  {
   "cell_type": "code",
   "execution_count": null,
   "metadata": {},
   "outputs": [],
   "source": [
    "# Retrieve the values of the series\n",
    "display(s.values)\n",
    "\n",
    "# Retrieve the indicies\n",
    "display(s.index)\n",
    "\n",
    "# Re-define the indicies\n",
    "new_index = range(-99, -93)\n",
    "s.index = new_index\n",
    "display(s)"
   ]
  },
  {
   "cell_type": "markdown",
   "metadata": {},
   "source": [
    "If we want to use a dictionary to create a series (and later `JSON`)..."
   ]
  },
  {
   "cell_type": "code",
   "execution_count": null,
   "metadata": {},
   "outputs": [],
   "source": [
    "data = {'1990':15.45288167, '2000':17.20060983, '2007':17.86526004,\n",
    "                '2008':18.16087566,'2009':18.20018196,'2010':16.92095367,\n",
    "                '2011':16.86260095, '2012':16.51938578, '2013':16.34730205}\n",
    "\n",
    "s = pd.Series(data)\n",
    "s"
   ]
  },
  {
   "cell_type": "markdown",
   "metadata": {},
   "source": [
    "### Slicing\n",
    "- Like lists and strings in COMP10001, Series and Dataframes can be sliced.\n",
    "- Equivalent of `SELECT * FROM columns WHERE condition` for Databases\n",
    "- `.loc[]` for *locating* matching values\n",
    "- `.iloc[]` for *index locating* matching values according to an index (highly not recommended at all unless you are subsampling)\n",
    "\n",
    "### `.loc`\n",
    "Syntax: `df.loc[df[col] > value]`"
   ]
  },
  {
   "cell_type": "code",
   "execution_count": null,
   "metadata": {},
   "outputs": [],
   "source": [
    "print(\"Original:\")\n",
    "s\n",
    "\n",
    "# sliced data for all values greater than 17\n",
    "print(\"Sliced using loc:\")\n",
    "display(s.loc[s > 17])"
   ]
  },
  {
   "cell_type": "markdown",
   "metadata": {},
   "source": [
    "### Series Operations\n",
    "- You can apply operations depending on the data type\n",
    "- (Advanced) You can apply functions on columns"
   ]
  },
  {
   "cell_type": "code",
   "execution_count": null,
   "metadata": {},
   "outputs": [],
   "source": [
    "double_s = s * 2\n"
   ]
  },
  {
   "cell_type": "markdown",
   "metadata": {},
   "source": [
    "### Series methods\n",
    "- Take the mean\n",
    "- Redefine the column or index name"
   ]
  },
  {
   "cell_type": "code",
   "execution_count": null,
   "metadata": {},
   "outputs": [],
   "source": [
    "s.mean(), s.std()"
   ]
  },
  {
   "cell_type": "code",
   "execution_count": null,
   "metadata": {},
   "outputs": [],
   "source": [
    "# a one-in-all method of statistically describing the dataset\n",
    "# includes count (number of rows), mean, standard deviation, min value, max value, quartiles\n",
    "s.describe()"
   ]
  },
  {
   "cell_type": "code",
   "execution_count": null,
   "metadata": {},
   "outputs": [],
   "source": [
    "s.name = 'CO2 Emissions'\n",
    "s.index.name = 'Number'\n",
    "s"
   ]
  },
  {
   "cell_type": "markdown",
   "metadata": {},
   "source": [
    "### <span style=\"color:blue\"> Series Exercise 1 (Together) </span>\n",
    "\n",
    "Find:\n",
    "- The max, median, and cumulative sum between 1960 and 2013.\n",
    "- The CO2 Emissions in Australia between 2000 to 2010\n",
    "- Given the population of Australia in 2013 was 23117353, find the CO2 emission per capita (divide emissions by population)"
   ]
  },
  {
   "cell_type": "code",
   "execution_count": null,
   "metadata": {
    "code_folding": []
   },
   "outputs": [],
   "source": [
    "#1.1\n",
    "print(f\"Max emission: {s.max()}\")\n",
    "\n",
    "print(f\"Median emission: {s.median()}\")\n",
    "\n",
    "print(f\"Cumulative sum between 1960 and 2013:\")\n",
    "s.cumsum()"
   ]
  },
  {
   "cell_type": "code",
   "execution_count": null,
   "metadata": {},
   "outputs": [],
   "source": [
    "#1.2\n",
    "s[\"2000\":\"2010\"]\n"
   ]
  },
  {
   "cell_type": "code",
   "execution_count": null,
   "metadata": {},
   "outputs": [],
   "source": [
    "#1.3\n",
    "POP = 23117353\n",
    "PC = s[\"2013\"]/POP\n",
    "print(f\"CO2 Emissions per Capita for Australia in 2013 was: {PC:.2}\")"
   ]
  },
  {
   "cell_type": "markdown",
   "metadata": {},
   "source": [
    "### DataFrames\n",
    "- Dataframes are a tabular data structure which contain multiple rows and columns (like your spreadsheets or tables)\n",
    "- One of the most important data structures when working with any dataset\n",
    "- Same as series in a sense that it has both rows and column indicies.\n",
    "- Each \"row index\" corresponds to the \"row of values\" (column values)\n",
    "- We usually name our dataframes `df_something` \n",
    "- Columns are indexed much like dictionary keys $\\rightarrow$ `df[column name]`\n",
    "\n",
    "\n",
    "<img src=\"images/DF.jpg\">\n"
   ]
  },
  {
   "cell_type": "code",
   "execution_count": null,
   "metadata": {},
   "outputs": [],
   "source": [
    "population_data = {'1990':17065100, '2000':19153000, '2007':20827600,\n",
    "        '2008':21249200,'2009':21691700,'2010':22031750,\n",
    "        '2011':22340024, '2012':22728254, '2013':23117353}\n",
    "\n",
    "population = pd.Series(population_data)\n",
    "display(population)\n",
    "\n",
    "emission_data = {'1990':15.45288167, '2000':17.20060983, '2007':17.86526004,\n",
    "                '2008':18.16087566,'2009':18.20018196,'2010':16.92095367,\n",
    "                '2011':16.86260095, '2012':16.51938578, '2013':16.34730205}\n",
    "emission = pd.Series(emission_data)\n",
    "display(emission)"
   ]
  },
  {
   "cell_type": "code",
   "execution_count": null,
   "metadata": {},
   "outputs": [],
   "source": [
    "df = pd.DataFrame({\"Emmision\": emission, \"Population\": population})\n",
    "display(df)"
   ]
  },
  {
   "cell_type": "markdown",
   "metadata": {},
   "source": [
    "### Reading in CSV's \n",
    "- As easy as `pd.read_csv(filename)`\n",
    "- Optional arguments (i.e `encoding`, `astype`, etc...)\n",
    "- Documentation: https://pandas.pydata.org/pandas-docs/stable/reference/api/pandas.read_csv.html"
   ]
  },
  {
   "cell_type": "code",
   "execution_count": 2,
   "metadata": {},
   "outputs": [
    {
     "output_type": "execute_result",
     "data": {
      "text/plain": [
       "                   Country                      Region          IncomeGroup\n",
       "0              Afghanistan                  South Asia           Low income\n",
       "1                  Albania       Europe & Central Asia  Upper middle income\n",
       "2                  Algeria  Middle East & North Africa  Upper middle income\n",
       "3           American Samoa         East Asia & Pacific  Upper middle income\n",
       "4                  Andorra       Europe & Central Asia          High income\n",
       "..                     ...                         ...                  ...\n",
       "212  Virgin Islands (U.S.)   Latin America & Caribbean          High income\n",
       "213     West Bank and Gaza  Middle East & North Africa  Lower middle income\n",
       "214            Yemen, Rep.  Middle East & North Africa  Lower middle income\n",
       "215                 Zambia          Sub-Saharan Africa  Lower middle income\n",
       "216               Zimbabwe          Sub-Saharan Africa           Low income\n",
       "\n",
       "[217 rows x 3 columns]"
      ],
      "text/html": "<div>\n<style scoped>\n    .dataframe tbody tr th:only-of-type {\n        vertical-align: middle;\n    }\n\n    .dataframe tbody tr th {\n        vertical-align: top;\n    }\n\n    .dataframe thead th {\n        text-align: right;\n    }\n</style>\n<table border=\"1\" class=\"dataframe\">\n  <thead>\n    <tr style=\"text-align: right;\">\n      <th></th>\n      <th>Country</th>\n      <th>Region</th>\n      <th>IncomeGroup</th>\n    </tr>\n  </thead>\n  <tbody>\n    <tr>\n      <th>0</th>\n      <td>Afghanistan</td>\n      <td>South Asia</td>\n      <td>Low income</td>\n    </tr>\n    <tr>\n      <th>1</th>\n      <td>Albania</td>\n      <td>Europe &amp; Central Asia</td>\n      <td>Upper middle income</td>\n    </tr>\n    <tr>\n      <th>2</th>\n      <td>Algeria</td>\n      <td>Middle East &amp; North Africa</td>\n      <td>Upper middle income</td>\n    </tr>\n    <tr>\n      <th>3</th>\n      <td>American Samoa</td>\n      <td>East Asia &amp; Pacific</td>\n      <td>Upper middle income</td>\n    </tr>\n    <tr>\n      <th>4</th>\n      <td>Andorra</td>\n      <td>Europe &amp; Central Asia</td>\n      <td>High income</td>\n    </tr>\n    <tr>\n      <th>...</th>\n      <td>...</td>\n      <td>...</td>\n      <td>...</td>\n    </tr>\n    <tr>\n      <th>212</th>\n      <td>Virgin Islands (U.S.)</td>\n      <td>Latin America &amp; Caribbean</td>\n      <td>High income</td>\n    </tr>\n    <tr>\n      <th>213</th>\n      <td>West Bank and Gaza</td>\n      <td>Middle East &amp; North Africa</td>\n      <td>Lower middle income</td>\n    </tr>\n    <tr>\n      <th>214</th>\n      <td>Yemen, Rep.</td>\n      <td>Middle East &amp; North Africa</td>\n      <td>Lower middle income</td>\n    </tr>\n    <tr>\n      <th>215</th>\n      <td>Zambia</td>\n      <td>Sub-Saharan Africa</td>\n      <td>Lower middle income</td>\n    </tr>\n    <tr>\n      <th>216</th>\n      <td>Zimbabwe</td>\n      <td>Sub-Saharan Africa</td>\n      <td>Low income</td>\n    </tr>\n  </tbody>\n</table>\n<p>217 rows × 3 columns</p>\n</div>"
     },
     "metadata": {},
     "execution_count": 2
    }
   ],
   "source": [
    "countries = pd.read_csv(\"data/countries.csv\", encoding='ISO-8859-1')\n",
    "countries"
   ]
  },
  {
   "cell_type": "code",
   "execution_count": 3,
   "metadata": {},
   "outputs": [
    {
     "output_type": "error",
     "ename": "NameError",
     "evalue": "name 'df' is not defined",
     "traceback": [
      "\u001b[1;31m---------------------------------------------------------------------------\u001b[0m",
      "\u001b[1;31mNameError\u001b[0m                                 Traceback (most recent call last)",
      "\u001b[1;32m<ipython-input-3-87fc2d313698>\u001b[0m in \u001b[0;36m<module>\u001b[1;34m\u001b[0m\n\u001b[0;32m      2\u001b[0m \u001b[1;31m# by default, n = 5\u001b[0m\u001b[1;33m\u001b[0m\u001b[1;33m\u001b[0m\u001b[1;33m\u001b[0m\u001b[0m\n\u001b[0;32m      3\u001b[0m \u001b[1;33m\u001b[0m\u001b[0m\n\u001b[1;32m----> 4\u001b[1;33m \u001b[0mdf\u001b[0m\u001b[1;33m.\u001b[0m\u001b[0mhead\u001b[0m\u001b[1;33m(\u001b[0m\u001b[1;33m)\u001b[0m\u001b[1;33m\u001b[0m\u001b[1;33m\u001b[0m\u001b[0m\n\u001b[0m",
      "\u001b[1;31mNameError\u001b[0m: name 'df' is not defined"
     ]
    }
   ],
   "source": [
    "# we can view the first/last n elements using .head(n) or .tail(n)\n",
    "# by default, n = 5\n",
    "\n",
    "df.head()"
   ]
  },
  {
   "cell_type": "markdown",
   "metadata": {},
   "source": [
    "### Dataframe methods\n",
    "Plenty to go around. Most useful ones of note are:\n",
    "- `df[column name].value_counts()`\n",
    "- `df.groupby(column name or column names as an iterable)`\n",
    "- `df.apply(some function)`\n",
    "- `df.sort_values(by=column name or column names as an iterable)`\n",
    "- `df.map(dictionary specifying value to new value)`\n",
    "- `df.update(newer version of the dataframe)` \n",
    "- `df.reset_index(drop=True for remove index or False for keep index)`\n",
    "- `df.fillna(value)`\n",
    "\n",
    "View more details in the documentation: https://pandas.pydata.org/pandas-docs/stable/reference/frame.html\n",
    "\n",
    "You'll notice the documentation and stack overflow will be your best friends in this subject."
   ]
  },
  {
   "cell_type": "code",
   "execution_count": null,
   "metadata": {},
   "outputs": [],
   "source": [
    "df.value_counts('Emmision')"
   ]
  },
  {
   "cell_type": "markdown",
   "metadata": {},
   "source": [
    "Note how \"Emmision\" has a typo (should be \"Emission\"). We can `rename` it!\n",
    "- `df.rename({original name: desired name}, axis=1, inplace=True)`\n",
    "- `.rename()` requires a dictionary of originan name to new name\n",
    "- `axis=1` specifies that we want to change the \"column names\" (`axis=0` is for the index names)\n",
    "- `inplace=True` specifies if we want to mutate the original dataframe (like `list.sort()`) or if we want a renamed version of the dataframe returned (like `sorted(list)`)"
   ]
  },
  {
   "cell_type": "code",
   "execution_count": null,
   "metadata": {},
   "outputs": [],
   "source": [
    "df.rename({\"Emmision\": \"Emission\"}, axis=1, inplace=True)\n",
    "df"
   ]
  },
  {
   "cell_type": "code",
   "execution_count": null,
   "metadata": {},
   "outputs": [],
   "source": [
    "df.value_counts()"
   ]
  },
  {
   "cell_type": "code",
   "execution_count": 6,
   "metadata": {},
   "outputs": [
    {
     "output_type": "execute_result",
     "data": {
      "text/plain": [
       "          Country      1990      2000      2007      2008      2009      2010  \\\n",
       "0     Afghanistan  0.216661  0.039272  0.087858  0.158962  0.249074  0.302936   \n",
       "1         Albania  1.615624  0.978175  1.322335  1.484311  1.495600  1.578574   \n",
       "2         Algeria  3.007911  2.819778  3.195865  3.168524  3.430129  3.307164   \n",
       "3  American Samoa       NaN       NaN       NaN       NaN       NaN       NaN   \n",
       "4         Andorra       NaN  8.018181  6.350868  6.296125  6.049173  6.124770   \n",
       "\n",
       "       2011      2012      2013  2014  2015  2016  \n",
       "0  0.425262  0.688084  0.693183   NaN   NaN   NaN  \n",
       "1  1.803972  1.624722  1.662185   NaN   NaN   NaN  \n",
       "2  3.300558  3.471950  3.514780   NaN   NaN   NaN  \n",
       "3       NaN       NaN       NaN   NaN   NaN   NaN  \n",
       "4  5.968685  6.195194  6.473848   NaN   NaN   NaN  "
      ],
      "text/html": "<div>\n<style scoped>\n    .dataframe tbody tr th:only-of-type {\n        vertical-align: middle;\n    }\n\n    .dataframe tbody tr th {\n        vertical-align: top;\n    }\n\n    .dataframe thead th {\n        text-align: right;\n    }\n</style>\n<table border=\"1\" class=\"dataframe\">\n  <thead>\n    <tr style=\"text-align: right;\">\n      <th></th>\n      <th>Country</th>\n      <th>1990</th>\n      <th>2000</th>\n      <th>2007</th>\n      <th>2008</th>\n      <th>2009</th>\n      <th>2010</th>\n      <th>2011</th>\n      <th>2012</th>\n      <th>2013</th>\n      <th>2014</th>\n      <th>2015</th>\n      <th>2016</th>\n    </tr>\n  </thead>\n  <tbody>\n    <tr>\n      <th>0</th>\n      <td>Afghanistan</td>\n      <td>0.216661</td>\n      <td>0.039272</td>\n      <td>0.087858</td>\n      <td>0.158962</td>\n      <td>0.249074</td>\n      <td>0.302936</td>\n      <td>0.425262</td>\n      <td>0.688084</td>\n      <td>0.693183</td>\n      <td>NaN</td>\n      <td>NaN</td>\n      <td>NaN</td>\n    </tr>\n    <tr>\n      <th>1</th>\n      <td>Albania</td>\n      <td>1.615624</td>\n      <td>0.978175</td>\n      <td>1.322335</td>\n      <td>1.484311</td>\n      <td>1.495600</td>\n      <td>1.578574</td>\n      <td>1.803972</td>\n      <td>1.624722</td>\n      <td>1.662185</td>\n      <td>NaN</td>\n      <td>NaN</td>\n      <td>NaN</td>\n    </tr>\n    <tr>\n      <th>2</th>\n      <td>Algeria</td>\n      <td>3.007911</td>\n      <td>2.819778</td>\n      <td>3.195865</td>\n      <td>3.168524</td>\n      <td>3.430129</td>\n      <td>3.307164</td>\n      <td>3.300558</td>\n      <td>3.471950</td>\n      <td>3.514780</td>\n      <td>NaN</td>\n      <td>NaN</td>\n      <td>NaN</td>\n    </tr>\n    <tr>\n      <th>3</th>\n      <td>American Samoa</td>\n      <td>NaN</td>\n      <td>NaN</td>\n      <td>NaN</td>\n      <td>NaN</td>\n      <td>NaN</td>\n      <td>NaN</td>\n      <td>NaN</td>\n      <td>NaN</td>\n      <td>NaN</td>\n      <td>NaN</td>\n      <td>NaN</td>\n      <td>NaN</td>\n    </tr>\n    <tr>\n      <th>4</th>\n      <td>Andorra</td>\n      <td>NaN</td>\n      <td>8.018181</td>\n      <td>6.350868</td>\n      <td>6.296125</td>\n      <td>6.049173</td>\n      <td>6.124770</td>\n      <td>5.968685</td>\n      <td>6.195194</td>\n      <td>6.473848</td>\n      <td>NaN</td>\n      <td>NaN</td>\n      <td>NaN</td>\n    </tr>\n  </tbody>\n</table>\n</div>"
     },
     "metadata": {},
     "execution_count": 6
    }
   ],
   "source": [
    "# create a new DataFrame for the CO2 emission from a csv file\n",
    "df2 = pd.read_csv('data/emission.csv', encoding='ISO-8859-1')\n",
    "df2.head()"
   ]
  },
  {
   "cell_type": "markdown",
   "metadata": {},
   "source": [
    "Take a moment to notice `NaN` (Not a Number). \n",
    "- This is the equivalent of `None` and implies the data is missing.\n",
    "- The thing with `NaN` is that it evaluates to `True` and has type `float` which can be annoying. \n",
    "- To do comparisions with it, you should aim to use `np.NaN` (`np` is the `numpy` library)."
   ]
  },
  {
   "cell_type": "markdown",
   "metadata": {},
   "source": [
    "### Subsets (and how to do it correctly)\n",
    "- Subsets can be created by taking a column, slice or variation of the dataframe"
   ]
  },
  {
   "cell_type": "code",
   "execution_count": null,
   "metadata": {},
   "outputs": [],
   "source": [
    "df_2010 = df2['2010']\n",
    "df_2010"
   ]
  },
  {
   "cell_type": "markdown",
   "metadata": {},
   "source": [
    "However, this is a \"shallow\" copy. \n",
    "- For those of you who have done COMP10002, this is the equivalent of creating a pointer to point to the subset. This implies that if you change the original data, then the pointer will also take those changes on board\n",
    "- For those of you who haven't, a shallow copy is essentially saying `df_2010` is equal to whatever `df2['2010']` is at all times. If I then change `df['2010']` to have different values, `df_2010` will then be equal to the new values too.\n",
    "\n",
    "You don't always want this property (and it causes several logic errors in code).\n",
    "- If you want to maintain an unchanged version of a subset, use `.copy()`\n",
    "\n",
    "Here's an example of it:"
   ]
  },
  {
   "cell_type": "code",
   "execution_count": null,
   "metadata": {},
   "outputs": [],
   "source": [
    "import numpy as np\n",
    "\n",
    "df2['2010'] = df2['2010'].apply(lambda x: x + 99 if x != np.NaN else -1)\n",
    "df_2010"
   ]
  },
  {
   "cell_type": "markdown",
   "metadata": {},
   "source": [
    "As you can see, we changed `df2`, but the changes were also reflected in `df_2010`. Let's try this again..."
   ]
  },
  {
   "cell_type": "code",
   "execution_count": 7,
   "metadata": {},
   "outputs": [
    {
     "output_type": "execute_result",
     "data": {
      "text/plain": [
       "                   Country      1990      2000      2007      2008      2009  \\\n",
       "212  Virgin Islands (U.S.)       NaN       NaN       NaN       NaN       NaN   \n",
       "213     West Bank and Gaza       NaN  0.271058  0.665297  0.570947  0.564578   \n",
       "214            Yemen, Rep.  0.802312  0.822618  0.966383  1.000747  1.070024   \n",
       "215                 Zambia  0.300362  0.172174  0.139614  0.166369  0.187044   \n",
       "216               Zimbabwe  1.478723  1.113890  0.743449  0.575777  0.607470   \n",
       "\n",
       "         2010      2011      2012      2013  2014  2015  2016  \n",
       "212       NaN       NaN       NaN       NaN   NaN   NaN   NaN  \n",
       "213  0.534015  0.572407  0.543675  0.584855   NaN   NaN   NaN  \n",
       "214  0.993225  0.811478  0.735086  0.992680   NaN   NaN   NaN  \n",
       "215  0.194713  0.204524  0.235347  0.250863   NaN   NaN   NaN  \n",
       "216  0.663130  0.815684  0.887956  0.924990   NaN   NaN   NaN  "
      ],
      "text/html": "<div>\n<style scoped>\n    .dataframe tbody tr th:only-of-type {\n        vertical-align: middle;\n    }\n\n    .dataframe tbody tr th {\n        vertical-align: top;\n    }\n\n    .dataframe thead th {\n        text-align: right;\n    }\n</style>\n<table border=\"1\" class=\"dataframe\">\n  <thead>\n    <tr style=\"text-align: right;\">\n      <th></th>\n      <th>Country</th>\n      <th>1990</th>\n      <th>2000</th>\n      <th>2007</th>\n      <th>2008</th>\n      <th>2009</th>\n      <th>2010</th>\n      <th>2011</th>\n      <th>2012</th>\n      <th>2013</th>\n      <th>2014</th>\n      <th>2015</th>\n      <th>2016</th>\n    </tr>\n  </thead>\n  <tbody>\n    <tr>\n      <th>212</th>\n      <td>Virgin Islands (U.S.)</td>\n      <td>NaN</td>\n      <td>NaN</td>\n      <td>NaN</td>\n      <td>NaN</td>\n      <td>NaN</td>\n      <td>NaN</td>\n      <td>NaN</td>\n      <td>NaN</td>\n      <td>NaN</td>\n      <td>NaN</td>\n      <td>NaN</td>\n      <td>NaN</td>\n    </tr>\n    <tr>\n      <th>213</th>\n      <td>West Bank and Gaza</td>\n      <td>NaN</td>\n      <td>0.271058</td>\n      <td>0.665297</td>\n      <td>0.570947</td>\n      <td>0.564578</td>\n      <td>0.534015</td>\n      <td>0.572407</td>\n      <td>0.543675</td>\n      <td>0.584855</td>\n      <td>NaN</td>\n      <td>NaN</td>\n      <td>NaN</td>\n    </tr>\n    <tr>\n      <th>214</th>\n      <td>Yemen, Rep.</td>\n      <td>0.802312</td>\n      <td>0.822618</td>\n      <td>0.966383</td>\n      <td>1.000747</td>\n      <td>1.070024</td>\n      <td>0.993225</td>\n      <td>0.811478</td>\n      <td>0.735086</td>\n      <td>0.992680</td>\n      <td>NaN</td>\n      <td>NaN</td>\n      <td>NaN</td>\n    </tr>\n    <tr>\n      <th>215</th>\n      <td>Zambia</td>\n      <td>0.300362</td>\n      <td>0.172174</td>\n      <td>0.139614</td>\n      <td>0.166369</td>\n      <td>0.187044</td>\n      <td>0.194713</td>\n      <td>0.204524</td>\n      <td>0.235347</td>\n      <td>0.250863</td>\n      <td>NaN</td>\n      <td>NaN</td>\n      <td>NaN</td>\n    </tr>\n    <tr>\n      <th>216</th>\n      <td>Zimbabwe</td>\n      <td>1.478723</td>\n      <td>1.113890</td>\n      <td>0.743449</td>\n      <td>0.575777</td>\n      <td>0.607470</td>\n      <td>0.663130</td>\n      <td>0.815684</td>\n      <td>0.887956</td>\n      <td>0.924990</td>\n      <td>NaN</td>\n      <td>NaN</td>\n      <td>NaN</td>\n    </tr>\n  </tbody>\n</table>\n</div>"
     },
     "metadata": {},
     "execution_count": 7
    }
   ],
   "source": [
    "# recreate a new DataFrame for the CO2 emission from a csv file\n",
    "df2 = pd.read_csv('data/emission.csv', encoding='ISO-8859-1')\n",
    "df2.tail()"
   ]
  },
  {
   "cell_type": "code",
   "execution_count": null,
   "metadata": {},
   "outputs": [],
   "source": [
    "df_2010 = df2['2010'].copy()\n",
    "df_2010"
   ]
  },
  {
   "cell_type": "code",
   "execution_count": null,
   "metadata": {},
   "outputs": [],
   "source": [
    "df2['2010'] = df2['2010'].apply(lambda x: x + 99 if x != np.NaN else -1)\n",
    "df_2010"
   ]
  },
  {
   "cell_type": "markdown",
   "metadata": {},
   "source": [
    "Now it's unchanged!"
   ]
  },
  {
   "cell_type": "markdown",
   "metadata": {},
   "source": [
    "### Basic Sorting Operations"
   ]
  },
  {
   "cell_type": "code",
   "execution_count": null,
   "metadata": {},
   "outputs": [],
   "source": [
    "# Sort column values using sort_values \n",
    "df_2010.sort_values()"
   ]
  },
  {
   "cell_type": "code",
   "execution_count": null,
   "metadata": {},
   "outputs": [],
   "source": [
    "# Sort column values to find the top countries\n",
    "df_2010.sort_values(ascending = False)"
   ]
  },
  {
   "cell_type": "markdown",
   "metadata": {},
   "source": [
    "### Advanced Sort Operations"
   ]
  },
  {
   "cell_type": "code",
   "execution_count": 81,
   "metadata": {},
   "outputs": [
    {
     "output_type": "display_data",
     "data": {
      "text/plain": "                      Country       1990       2000       2007       2008  \\\n158                     Qatar  24.712027  58.522169  53.672746  46.684906   \n50                    Curacao        NaN        NaN        NaN        NaN   \n196       Trinidad and Tobago  13.879875  18.844281  36.816763  35.455298   \n105                    Kuwait  23.466084  27.759023  29.636849  30.581264   \n28          Brunei Darussalam  24.105188  14.255144  22.474463  23.950011   \n..                        ...        ...        ...        ...        ...   \n157               Puerto Rico        NaN        NaN        NaN        NaN   \n163                San Marino        NaN        NaN        NaN        NaN   \n182  St. Martin (French part)        NaN        NaN        NaN        NaN   \n201                    Tuvalu        NaN        NaN        NaN        NaN   \n212     Virgin Islands (U.S.)        NaN        NaN        NaN        NaN   \n\n          2009       2010       2011       2012       2013  2014  2015  2016  \n158  43.504331  41.131162  42.213752  46.697477  40.462355   NaN   NaN   NaN  \n50         NaN        NaN        NaN  39.638551  34.161635   NaN   NaN   NaN  \n196  33.952984  36.073741  35.137310  33.819694  34.520237   NaN   NaN   NaN  \n105  30.300789  29.294309  28.102662  29.578729  27.258964   NaN   NaN   NaN  \n28   20.311171  20.856947  24.272670  23.800884  18.918736   NaN   NaN   NaN  \n..         ...        ...        ...        ...        ...   ...   ...   ...  \n157        NaN        NaN        NaN        NaN        NaN   NaN   NaN   NaN  \n163        NaN        NaN        NaN        NaN        NaN   NaN   NaN   NaN  \n182        NaN        NaN        NaN        NaN        NaN   NaN   NaN   NaN  \n201        NaN        NaN        NaN        NaN        NaN   NaN   NaN   NaN  \n212        NaN        NaN        NaN        NaN        NaN   NaN   NaN   NaN  \n\n[217 rows x 13 columns]",
      "text/html": "<div>\n<style scoped>\n    .dataframe tbody tr th:only-of-type {\n        vertical-align: middle;\n    }\n\n    .dataframe tbody tr th {\n        vertical-align: top;\n    }\n\n    .dataframe thead th {\n        text-align: right;\n    }\n</style>\n<table border=\"1\" class=\"dataframe\">\n  <thead>\n    <tr style=\"text-align: right;\">\n      <th></th>\n      <th>Country</th>\n      <th>1990</th>\n      <th>2000</th>\n      <th>2007</th>\n      <th>2008</th>\n      <th>2009</th>\n      <th>2010</th>\n      <th>2011</th>\n      <th>2012</th>\n      <th>2013</th>\n      <th>2014</th>\n      <th>2015</th>\n      <th>2016</th>\n    </tr>\n  </thead>\n  <tbody>\n    <tr>\n      <th>158</th>\n      <td>Qatar</td>\n      <td>24.712027</td>\n      <td>58.522169</td>\n      <td>53.672746</td>\n      <td>46.684906</td>\n      <td>43.504331</td>\n      <td>41.131162</td>\n      <td>42.213752</td>\n      <td>46.697477</td>\n      <td>40.462355</td>\n      <td>NaN</td>\n      <td>NaN</td>\n      <td>NaN</td>\n    </tr>\n    <tr>\n      <th>50</th>\n      <td>Curacao</td>\n      <td>NaN</td>\n      <td>NaN</td>\n      <td>NaN</td>\n      <td>NaN</td>\n      <td>NaN</td>\n      <td>NaN</td>\n      <td>NaN</td>\n      <td>39.638551</td>\n      <td>34.161635</td>\n      <td>NaN</td>\n      <td>NaN</td>\n      <td>NaN</td>\n    </tr>\n    <tr>\n      <th>196</th>\n      <td>Trinidad and Tobago</td>\n      <td>13.879875</td>\n      <td>18.844281</td>\n      <td>36.816763</td>\n      <td>35.455298</td>\n      <td>33.952984</td>\n      <td>36.073741</td>\n      <td>35.137310</td>\n      <td>33.819694</td>\n      <td>34.520237</td>\n      <td>NaN</td>\n      <td>NaN</td>\n      <td>NaN</td>\n    </tr>\n    <tr>\n      <th>105</th>\n      <td>Kuwait</td>\n      <td>23.466084</td>\n      <td>27.759023</td>\n      <td>29.636849</td>\n      <td>30.581264</td>\n      <td>30.300789</td>\n      <td>29.294309</td>\n      <td>28.102662</td>\n      <td>29.578729</td>\n      <td>27.258964</td>\n      <td>NaN</td>\n      <td>NaN</td>\n      <td>NaN</td>\n    </tr>\n    <tr>\n      <th>28</th>\n      <td>Brunei Darussalam</td>\n      <td>24.105188</td>\n      <td>14.255144</td>\n      <td>22.474463</td>\n      <td>23.950011</td>\n      <td>20.311171</td>\n      <td>20.856947</td>\n      <td>24.272670</td>\n      <td>23.800884</td>\n      <td>18.918736</td>\n      <td>NaN</td>\n      <td>NaN</td>\n      <td>NaN</td>\n    </tr>\n    <tr>\n      <th>...</th>\n      <td>...</td>\n      <td>...</td>\n      <td>...</td>\n      <td>...</td>\n      <td>...</td>\n      <td>...</td>\n      <td>...</td>\n      <td>...</td>\n      <td>...</td>\n      <td>...</td>\n      <td>...</td>\n      <td>...</td>\n      <td>...</td>\n    </tr>\n    <tr>\n      <th>157</th>\n      <td>Puerto Rico</td>\n      <td>NaN</td>\n      <td>NaN</td>\n      <td>NaN</td>\n      <td>NaN</td>\n      <td>NaN</td>\n      <td>NaN</td>\n      <td>NaN</td>\n      <td>NaN</td>\n      <td>NaN</td>\n      <td>NaN</td>\n      <td>NaN</td>\n      <td>NaN</td>\n    </tr>\n    <tr>\n      <th>163</th>\n      <td>San Marino</td>\n      <td>NaN</td>\n      <td>NaN</td>\n      <td>NaN</td>\n      <td>NaN</td>\n      <td>NaN</td>\n      <td>NaN</td>\n      <td>NaN</td>\n      <td>NaN</td>\n      <td>NaN</td>\n      <td>NaN</td>\n      <td>NaN</td>\n      <td>NaN</td>\n    </tr>\n    <tr>\n      <th>182</th>\n      <td>St. Martin (French part)</td>\n      <td>NaN</td>\n      <td>NaN</td>\n      <td>NaN</td>\n      <td>NaN</td>\n      <td>NaN</td>\n      <td>NaN</td>\n      <td>NaN</td>\n      <td>NaN</td>\n      <td>NaN</td>\n      <td>NaN</td>\n      <td>NaN</td>\n      <td>NaN</td>\n    </tr>\n    <tr>\n      <th>201</th>\n      <td>Tuvalu</td>\n      <td>NaN</td>\n      <td>NaN</td>\n      <td>NaN</td>\n      <td>NaN</td>\n      <td>NaN</td>\n      <td>NaN</td>\n      <td>NaN</td>\n      <td>NaN</td>\n      <td>NaN</td>\n      <td>NaN</td>\n      <td>NaN</td>\n      <td>NaN</td>\n    </tr>\n    <tr>\n      <th>212</th>\n      <td>Virgin Islands (U.S.)</td>\n      <td>NaN</td>\n      <td>NaN</td>\n      <td>NaN</td>\n      <td>NaN</td>\n      <td>NaN</td>\n      <td>NaN</td>\n      <td>NaN</td>\n      <td>NaN</td>\n      <td>NaN</td>\n      <td>NaN</td>\n      <td>NaN</td>\n      <td>NaN</td>\n    </tr>\n  </tbody>\n</table>\n<p>217 rows × 13 columns</p>\n</div>"
     },
     "metadata": {}
    }
   ],
   "source": [
    "# Sort column values of a DataFrame\n",
    "sorted_2012 = df2.sort_values(by='2012', ascending = False)\n",
    "display(sorted_2012"
   ]
  },
  {
   "cell_type": "code",
   "execution_count": null,
   "metadata": {},
   "outputs": [],
   "source": [
    "# Sort column values using two columns\n",
    "sorted_2012 = df2.sort_values(by=['2012','2013'], ascending=[False, True])\n",
    "sorted_2012"
   ]
  },
  {
   "cell_type": "markdown",
   "metadata": {},
   "source": [
    "### Slicing using the `.loc` and `.iloc` method\n",
    "- Like Series, you can slice your dataframes\n",
    "- Recall `.iloc` for indicies, `.loc` based on conditions.\n",
    "\n",
    "The full syntax is as follows (some examples):\n",
    "- `df.loc[df['2012'] > 40, '2013']`: Give me all the `'2013'` row values if the row in `'2012'` was greater than 40.\n",
    "- `df.loc[df['2012'] > 40, ['2012','2013']]`: Give me all the row values fpr `'2012'` and `'2013'` if the row in `'2012'` was greater than 40.\n",
    "\n",
    "You can also use `.loc` for specific indicies (but once again, not recommended unless you are taking the top `n` values of something)\n",
    "\n",
    "**Note:** `.loc[]` includes the value you want to slice (inclusive)\n",
    "i.e `.loc[:5]` will return indicies 0 to 5 (6 values)"
   ]
  },
  {
   "cell_type": "code",
   "execution_count": null,
   "metadata": {},
   "outputs": [],
   "source": [
    "display(df2.loc[df2['2012'] > 40, '2013'])\n",
    "display(df2.loc[df2['2012'] > 40, ['2012','2013']])"
   ]
  },
  {
   "cell_type": "code",
   "execution_count": null,
   "metadata": {},
   "outputs": [],
   "source": [
    "df2.loc[3:5, ['Country','1990']]"
   ]
  },
  {
   "cell_type": "code",
   "execution_count": null,
   "metadata": {
    "scrolled": false
   },
   "outputs": [],
   "source": [
    "# All rows and specific columns\n",
    "display(df2.loc[:,['Country','1990']])\n",
    "\n",
    "# or alternatively just use \n",
    "display(df2[['Country','1990']])"
   ]
  },
  {
   "cell_type": "markdown",
   "metadata": {},
   "source": [
    "### <span style=\"color:blue\"> Dataframe Exercise 1 </span>\n",
    "\n",
    "- Retrieve the mean, median of CO2 emission generated in 2012 by all countries.\n",
    "- Retrieve the top 5 countries with the most CO2 emission in 2012. How about the 5 countries with the least emission? (remember that `.sort_values()` has an **ascending** parameter that is set to `True` by default).\n",
    "- Retrieve the sum of CO2 emission for all years and find the 2 years with the maximum CO2 emission."
   ]
  },
  {
   "cell_type": "code",
   "execution_count": 29,
   "metadata": {},
   "outputs": [
    {
     "output_type": "display_data",
     "data": {
      "text/plain": "5.161476912617647"
     },
     "metadata": {}
    },
    {
     "output_type": "display_data",
     "data": {
      "text/plain": "2.7530064495"
     },
     "metadata": {}
    }
   ],
   "source": [
    "#1.1\n",
    "display(df2['2012'].mean())\n",
    "display(df2['2012'].median())"
   ]
  },
  {
   "cell_type": "code",
   "execution_count": 34,
   "metadata": {},
   "outputs": [
    {
     "output_type": "stream",
     "name": "stdout",
     "text": [
      "Top 5 Countries with the most CO2 Emissions in 2012:\n"
     ]
    },
    {
     "output_type": "display_data",
     "data": {
      "text/plain": "158                  Qatar\n50                 Curacao\n196    Trinidad and Tobago\n105                 Kuwait\n28       Brunei Darussalam\nName: Country, dtype: object"
     },
     "metadata": {}
    },
    {
     "output_type": "stream",
     "name": "stdout",
     "text": [
      "Bottom 5 Countries with the most CO2 Emissions in 2012:\n"
     ]
    },
    {
     "output_type": "display_data",
     "data": {
      "text/plain": "157                 Puerto Rico\n163                  San Marino\n182    St. Martin (French part)\n201                      Tuvalu\n212       Virgin Islands (U.S.)\nName: Country, dtype: object"
     },
     "metadata": {}
    }
   ],
   "source": [
    "#1.2\n",
    "print(\"Top 5 Countries with the most CO2 Emissions in 2012:\")\n",
    "display(df2.sort_values(by = '2012', ascending=False).head()['Country'])\n",
    "\n",
    "print(\"Bottom 5 Countries with the most CO2 Emissions in 2012:\")\n",
    "display(df2.sort_values(by = '2012', ascending=False).tail()['Country'])"
   ]
  },
  {
   "cell_type": "code",
   "execution_count": 73,
   "metadata": {},
   "outputs": [
    {
     "output_type": "display_data",
     "data": {
      "text/plain": "2012    1052.941290\n2007    1025.977262\ndtype: float64"
     },
     "metadata": {}
    }
   ],
   "source": [
    "#1.3\n",
    "display(df2[df2.columns[1:]].sum().sort_values(ascending = False).head(2))"
   ]
  },
  {
   "cell_type": "markdown",
   "metadata": {},
   "source": [
    "### <span style=\"color:blue\"> Dataframe Exercise 2 </span>\n",
    "\n",
    "Create a dataframe that has `Country`, `Region` and `IncomeGroup` of the top 10 emitting countries in 2012.\n",
    "- `countries` and `df2` are the variables\n",
    "- several ways of getting to the solution"
   ]
  },
  {
   "cell_type": "code",
   "execution_count": 106,
   "metadata": {},
   "outputs": [
    {
     "output_type": "execute_result",
     "data": {
      "text/plain": [
       "                       Country                      Region  IncomeGroup\n",
       "158                      Qatar  Middle East & North Africa  High income\n",
       "50                     Curacao   Latin America & Caribbean  High income\n",
       "196        Trinidad and Tobago   Latin America & Caribbean  High income\n",
       "105                     Kuwait  Middle East & North Africa  High income\n",
       "28           Brunei Darussalam         East Asia & Pacific  High income\n",
       "14                     Bahrain  Middle East & North Africa  High income\n",
       "171  Sint Maarten (Dutch part)   Latin America & Caribbean  High income\n",
       "115                 Luxembourg       Europe & Central Asia  High income\n",
       "204       United Arab Emirates  Middle East & North Africa  High income\n",
       "164               Saudi Arabia  Middle East & North Africa  High income"
      ],
      "text/html": "<div>\n<style scoped>\n    .dataframe tbody tr th:only-of-type {\n        vertical-align: middle;\n    }\n\n    .dataframe tbody tr th {\n        vertical-align: top;\n    }\n\n    .dataframe thead th {\n        text-align: right;\n    }\n</style>\n<table border=\"1\" class=\"dataframe\">\n  <thead>\n    <tr style=\"text-align: right;\">\n      <th></th>\n      <th>Country</th>\n      <th>Region</th>\n      <th>IncomeGroup</th>\n    </tr>\n  </thead>\n  <tbody>\n    <tr>\n      <th>158</th>\n      <td>Qatar</td>\n      <td>Middle East &amp; North Africa</td>\n      <td>High income</td>\n    </tr>\n    <tr>\n      <th>50</th>\n      <td>Curacao</td>\n      <td>Latin America &amp; Caribbean</td>\n      <td>High income</td>\n    </tr>\n    <tr>\n      <th>196</th>\n      <td>Trinidad and Tobago</td>\n      <td>Latin America &amp; Caribbean</td>\n      <td>High income</td>\n    </tr>\n    <tr>\n      <th>105</th>\n      <td>Kuwait</td>\n      <td>Middle East &amp; North Africa</td>\n      <td>High income</td>\n    </tr>\n    <tr>\n      <th>28</th>\n      <td>Brunei Darussalam</td>\n      <td>East Asia &amp; Pacific</td>\n      <td>High income</td>\n    </tr>\n    <tr>\n      <th>14</th>\n      <td>Bahrain</td>\n      <td>Middle East &amp; North Africa</td>\n      <td>High income</td>\n    </tr>\n    <tr>\n      <th>171</th>\n      <td>Sint Maarten (Dutch part)</td>\n      <td>Latin America &amp; Caribbean</td>\n      <td>High income</td>\n    </tr>\n    <tr>\n      <th>115</th>\n      <td>Luxembourg</td>\n      <td>Europe &amp; Central Asia</td>\n      <td>High income</td>\n    </tr>\n    <tr>\n      <th>204</th>\n      <td>United Arab Emirates</td>\n      <td>Middle East &amp; North Africa</td>\n      <td>High income</td>\n    </tr>\n    <tr>\n      <th>164</th>\n      <td>Saudi Arabia</td>\n      <td>Middle East &amp; North Africa</td>\n      <td>High income</td>\n    </tr>\n  </tbody>\n</table>\n</div>"
     },
     "metadata": {},
     "execution_count": 106
    }
   ],
   "source": [
    "top10countries = df2.sort_values(by='2012', ascending = False).head(10)['Country']\n",
    "pd.merge(countries, df2, on='Country').sort_values(by='2012', ascending=False).head(10).loc[:,'Country':'IncomeGroup'])"
   ]
  },
  {
   "cell_type": "markdown",
   "metadata": {},
   "source": [
    "## Groupby\n",
    "- The Groupby method lets you separate the data into different groups based off shared characteristics.  \n",
    "- For example, we can group countries by region or income range and then analyse those groups individually. \n",
    "- `groupby` objects are like your generator functions (list comprehension) and require an \"aggregation\" to give an output\n",
    "- Alternatively, if you just want the groupby, you can reset the index.\n",
    "\n",
    "<img src=\"files/images/groupby1.jpg\">\n",
    "\n",
    "Documentation: https://pandas.pydata.org/pandas-docs/stable/user_guide/groupby.html\n",
    "\n",
    "Here's an example"
   ]
  },
  {
   "cell_type": "code",
   "execution_count": 110,
   "metadata": {},
   "outputs": [
    {
     "output_type": "execute_result",
     "data": {
      "text/plain": [
       "                     Country  Region\n",
       "IncomeGroup                         \n",
       "High income               78      78\n",
       "Low income                31      31\n",
       "Lower middle income       52      52\n",
       "Upper middle income       56      56"
      ],
      "text/html": "<div>\n<style scoped>\n    .dataframe tbody tr th:only-of-type {\n        vertical-align: middle;\n    }\n\n    .dataframe tbody tr th {\n        vertical-align: top;\n    }\n\n    .dataframe thead th {\n        text-align: right;\n    }\n</style>\n<table border=\"1\" class=\"dataframe\">\n  <thead>\n    <tr style=\"text-align: right;\">\n      <th></th>\n      <th>Country</th>\n      <th>Region</th>\n    </tr>\n    <tr>\n      <th>IncomeGroup</th>\n      <th></th>\n      <th></th>\n    </tr>\n  </thead>\n  <tbody>\n    <tr>\n      <th>High income</th>\n      <td>78</td>\n      <td>78</td>\n    </tr>\n    <tr>\n      <th>Low income</th>\n      <td>31</td>\n      <td>31</td>\n    </tr>\n    <tr>\n      <th>Lower middle income</th>\n      <td>52</td>\n      <td>52</td>\n    </tr>\n    <tr>\n      <th>Upper middle income</th>\n      <td>56</td>\n      <td>56</td>\n    </tr>\n  </tbody>\n</table>\n</div>"
     },
     "metadata": {},
     "execution_count": 110
    }
   ],
   "source": [
    "countries.groupby('IncomeGroup').count()"
   ]
  },
  {
   "cell_type": "code",
   "execution_count": 108,
   "metadata": {},
   "outputs": [
    {
     "output_type": "execute_result",
     "data": {
      "text/plain": [
       "           IncomeGroup  Country  Region\n",
       "0          High income       78      78\n",
       "1           Low income       31      31\n",
       "2  Lower middle income       52      52\n",
       "3  Upper middle income       56      56"
      ],
      "text/html": "<div>\n<style scoped>\n    .dataframe tbody tr th:only-of-type {\n        vertical-align: middle;\n    }\n\n    .dataframe tbody tr th {\n        vertical-align: top;\n    }\n\n    .dataframe thead th {\n        text-align: right;\n    }\n</style>\n<table border=\"1\" class=\"dataframe\">\n  <thead>\n    <tr style=\"text-align: right;\">\n      <th></th>\n      <th>IncomeGroup</th>\n      <th>Country</th>\n      <th>Region</th>\n    </tr>\n  </thead>\n  <tbody>\n    <tr>\n      <th>0</th>\n      <td>High income</td>\n      <td>78</td>\n      <td>78</td>\n    </tr>\n    <tr>\n      <th>1</th>\n      <td>Low income</td>\n      <td>31</td>\n      <td>31</td>\n    </tr>\n    <tr>\n      <th>2</th>\n      <td>Lower middle income</td>\n      <td>52</td>\n      <td>52</td>\n    </tr>\n    <tr>\n      <th>3</th>\n      <td>Upper middle income</td>\n      <td>56</td>\n      <td>56</td>\n    </tr>\n  </tbody>\n</table>\n</div>"
     },
     "metadata": {},
     "execution_count": 108
    }
   ],
   "source": [
    "countries.groupby('IncomeGroup').count().reset_index()"
   ]
  },
  {
   "cell_type": "markdown",
   "metadata": {},
   "source": [
    "### <span style=\"color:blue\"> Exercise 3 </span>\n",
    "\n",
    "Using Countries data frame, group the rows using the Region column.\n",
    "* Show the size of each group\n",
    "* Find the number of high income and low income countries by region"
   ]
  },
  {
   "cell_type": "code",
   "execution_count": 175,
   "metadata": {},
   "outputs": [
    {
     "output_type": "execute_result",
     "data": {
      "text/plain": [
       "Region\n",
       "East Asia & Pacific           37\n",
       "Europe & Central Asia         58\n",
       "Latin America & Caribbean     42\n",
       "Middle East & North Africa    21\n",
       "North America                  3\n",
       "South Asia                     8\n",
       "Sub-Saharan Africa            48\n",
       "dtype: int64"
      ]
     },
     "metadata": {},
     "execution_count": 175
    }
   ],
   "source": [
    "#3.1\n",
    "countries.groupby(['Region']).size()"
   ]
  },
  {
   "cell_type": "code",
   "execution_count": 172,
   "metadata": {},
   "outputs": [
    {
     "output_type": "display_data",
     "data": {
      "text/plain": "                                        Country\nRegion                     IncomeGroup         \nEast Asia & Pacific        High income       13\n                           Low income         1\nEurope & Central Asia      High income       37\nLatin America & Caribbean  High income       16\n                           Low income         1\nMiddle East & North Africa High income        8\nNorth America              High income        3\nSouth Asia                 Low income         2\nSub-Saharan Africa         High income        1\n                           Low income        27",
      "text/html": "<div>\n<style scoped>\n    .dataframe tbody tr th:only-of-type {\n        vertical-align: middle;\n    }\n\n    .dataframe tbody tr th {\n        vertical-align: top;\n    }\n\n    .dataframe thead th {\n        text-align: right;\n    }\n</style>\n<table border=\"1\" class=\"dataframe\">\n  <thead>\n    <tr style=\"text-align: right;\">\n      <th></th>\n      <th></th>\n      <th>Country</th>\n    </tr>\n    <tr>\n      <th>Region</th>\n      <th>IncomeGroup</th>\n      <th></th>\n    </tr>\n  </thead>\n  <tbody>\n    <tr>\n      <th rowspan=\"2\" valign=\"top\">East Asia &amp; Pacific</th>\n      <th>High income</th>\n      <td>13</td>\n    </tr>\n    <tr>\n      <th>Low income</th>\n      <td>1</td>\n    </tr>\n    <tr>\n      <th>Europe &amp; Central Asia</th>\n      <th>High income</th>\n      <td>37</td>\n    </tr>\n    <tr>\n      <th rowspan=\"2\" valign=\"top\">Latin America &amp; Caribbean</th>\n      <th>High income</th>\n      <td>16</td>\n    </tr>\n    <tr>\n      <th>Low income</th>\n      <td>1</td>\n    </tr>\n    <tr>\n      <th>Middle East &amp; North Africa</th>\n      <th>High income</th>\n      <td>8</td>\n    </tr>\n    <tr>\n      <th>North America</th>\n      <th>High income</th>\n      <td>3</td>\n    </tr>\n    <tr>\n      <th>South Asia</th>\n      <th>Low income</th>\n      <td>2</td>\n    </tr>\n    <tr>\n      <th rowspan=\"2\" valign=\"top\">Sub-Saharan Africa</th>\n      <th>High income</th>\n      <td>1</td>\n    </tr>\n    <tr>\n      <th>Low income</th>\n      <td>27</td>\n    </tr>\n  </tbody>\n</table>\n</div>"
     },
     "metadata": {}
    }
   ],
   "source": [
    "#3.2\n",
    "display(countries.loc[countries['IncomeGroup'].isin(['High income', 'Low income'])].groupby(['Region', 'IncomeGroup']).count())"
   ]
  }
 ],
 "metadata": {
  "kernelspec": {
   "name": "python394jvsc74a57bd0b957dbe11676a874aab21e7d053542141370a5a965f8567de3523a758c7a7b8e",
   "display_name": "Python 3.9.4 64-bit"
  },
  "language_info": {
   "codemirror_mode": {
    "name": "ipython",
    "version": 3
   },
   "file_extension": ".py",
   "mimetype": "text/x-python",
   "name": "python",
   "nbconvert_exporter": "python",
   "pygments_lexer": "ipython3",
   "version": "3.9.4-final"
  },
  "latex_envs": {
   "LaTeX_envs_menu_present": true,
   "autocomplete": true,
   "bibliofile": "biblio.bib",
   "cite_by": "apalike",
   "current_citInitial": 1,
   "eqLabelWithNumbers": true,
   "eqNumInitial": 1,
   "hotkeys": {
    "equation": "Ctrl-E",
    "itemize": "Ctrl-I"
   },
   "labels_anchors": false,
   "latex_user_defs": false,
   "report_style_numbering": false,
   "user_envs_cfg": false
  },
  "varInspector": {
   "cols": {
    "lenName": 16,
    "lenType": 16,
    "lenVar": 40
   },
   "kernels_config": {
    "python": {
     "delete_cmd_postfix": "",
     "delete_cmd_prefix": "del ",
     "library": "var_list.py",
     "varRefreshCmd": "print(var_dic_list())"
    },
    "r": {
     "delete_cmd_postfix": ") ",
     "delete_cmd_prefix": "rm(",
     "library": "var_list.r",
     "varRefreshCmd": "cat(var_dic_list()) "
    }
   },
   "types_to_exclude": [
    "module",
    "function",
    "builtin_function_or_method",
    "instance",
    "_Feature"
   ],
   "window_display": false
  },
  "metadata": {
   "interpreter": {
    "hash": "b957dbe11676a874aab21e7d053542141370a5a965f8567de3523a758c7a7b8e"
   }
  }
 },
 "nbformat": 4,
 "nbformat_minor": 4
}