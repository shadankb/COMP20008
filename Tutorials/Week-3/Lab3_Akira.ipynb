{
 "cells": [
  {
   "cell_type": "markdown",
   "metadata": {},
   "source": [
    "## COMP20008 2021 Semester 1 Workshop 3\n",
    "### Why XML and when do we see it?\n",
    "- Extensible Markup Language (XML) is widely used markup language used to define rules for encoding documents or data structures (closer to HTML than to Python).\n",
    "- Commonly used for documents, but also for XML SOAP requests (messaging protocol for requests) when working with asynchronous API's (so yes, you will eventually come across these in industry). \n",
    "- Just note that the XML SOAP protocol has been superseded by REST API's (Application Programming Interfaces), but these are still abundant and around!\n",
    "\n",
    "### XML and Python\n",
    "- To parse XML data structures in Python, we will use the `lxml` library (different from the `xml` built-in library).\n",
    "- TL;DR: `lxml` is a more powerful and feature-rich version of `xml`.\n",
    "- Combining both `lxml` and `requests` (library for sending requests) creates a powerful method of dealing with API's online.\n",
    "- Notable functions from `lxml` include `etree`, which allows parsing of XML data into a tree-like structure.\n",
    "- Documentation: https://lxml.de/api/index.html"
   ]
  },
  {
   "cell_type": "code",
   "execution_count": 7,
   "metadata": {},
   "outputs": [],
   "source": [
    "# import the whole etree module from lxml\n",
    "from lxml import etree"
   ]
  },
  {
   "cell_type": "markdown",
   "metadata": {},
   "source": [
    "### Example\n",
    "Here's what the `roya.xml` file looks like:\n",
    "```\n",
    "<?xml version=\"1.0\" encoding=\"utf-8\"?>\n",
    "  <queen title=\"Queen Elizabeth II\" marriedTo=\"Philip, Duke of Edinburgh\">\n",
    "    <prince title=\"Charles, Prince of Wales\" marriedTo=\"Lady Diana Spencer\">\n",
    "      <prince title=\"Prince William of Wales\"/>\n",
    "      <prince title=\"Prince Henry of Wales\"/>\n",
    "    </prince>\n",
    "    <princess title=\"Anne, Princess Royal\"/>\n",
    "    <prince title=\"Andrew, Duke of York\"/>\n",
    "    <prince title=\"Edward, Earl of Wessex\"/>\n",
    "  </queen>\n",
    "```\n",
    "...and visually as a tree-like structure\n",
    "\n",
    "<img src=\"download.png\" align=\"left\" style=\"width: 30vw; min-width: 200px;\"/>"
   ]
  },
  {
   "cell_type": "markdown",
   "metadata": {},
   "source": [
    "There are two main scenarios of \"reading\" in XML files:  \n",
    "1. Reading in a local file.\n",
    "2. Sending a request online to read an XML file."
   ]
  },
  {
   "cell_type": "markdown",
   "metadata": {},
   "source": [
    "#### Method 1\n",
    "- Use `etree.parse` to parse an XML file into an Element Tree"
   ]
  },
  {
   "cell_type": "code",
   "execution_count": 8,
   "metadata": {},
   "outputs": [
    {
     "output_type": "execute_result",
     "data": {
      "text/plain": [
       "<lxml.etree._ElementTree at 0x2bcc4e88080>"
      ]
     },
     "metadata": {},
     "execution_count": 8
    }
   ],
   "source": [
    "xmltree = etree.parse(\"royal.xml\")\n",
    "xmltree"
   ]
  },
  {
   "cell_type": "markdown",
   "metadata": {},
   "source": [
    "#### Method 2\n",
    "Use `requests` to grab an online XML file and parse it.\n",
    "1. First, we use a GET request (get an object from the URL) to get the data.\n",
    "2. Next, we get the content of the response as a string (`response.content`).\n",
    "3. Then, we create an XML from the response string.\n",
    "4. Finally, we parse the XML into an Element Tree"
   ]
  },
  {
   "cell_type": "code",
   "execution_count": 11,
   "metadata": {},
   "outputs": [
    {
     "output_type": "stream",
     "name": "stdout",
     "text": [
      "b'<?xml version=\"1.0\" encoding=\"utf-8\"?>\\n  <queen title=\"Queen Elizabeth II\" marriedTo=\"Philip, Duke of Edinburgh\">\\n      <prince title=\"Charles, Prince of Wales\" marriedTo=\"Lady Diana Spencer\">\\n\\t\\t<prince title=\"Prince William of Wales\" />\\n\\t\\t<prince title=\"Prince Henry of Wales\" />\\n      </prince>\\n      <princess title=\"Anne, Princess Royal\" />\\n      <prince title=\"Andrew, Duke of York\" />\\n      <prince title=\"Edward, Earl of Wessex\" />\\n</queen>\\n'\n"
     ]
    },
    {
     "output_type": "execute_result",
     "data": {
      "text/plain": [
       "<lxml.etree._ElementTree at 0x2bcc50c64c0>"
      ]
     },
     "metadata": {},
     "execution_count": 11
    }
   ],
   "source": [
    "import requests \n",
    "\n",
    "# this URL is the github uploaded version of the xml\n",
    "url = 'https://raw.githubusercontent.com/akiratwang/COMP20008/main/Tutorials/Week-3/royal.xml'\n",
    "\n",
    "# GET request = \"get an object from the URL\"\n",
    "response = requests.get(url)\n",
    "\n",
    "# response.content = requested object's content as a string\n",
    "print(response.content)\n",
    "\n",
    "# convert the response to an xml from a string\n",
    "xml_response = etree.fromstring(response.content)\n",
    "\n",
    "# convert the xml to an Element Tree\n",
    "xmltree_requests = etree.ElementTree(xml_response)\n",
    "\n",
    "xmltree_requests"
   ]
  },
  {
   "cell_type": "markdown",
   "metadata": {},
   "source": [
    "- So, right now we have an **XML Element Tree** (ET), which represents the whole XML file as a tree-like structure.\n",
    "- Each node in this ET is represented as an **Element** object.\n",
    "- You can use `getroot()` to get the root element of the ET, as well as the `tag` attribute to get the tag of an element."
   ]
  },
  {
   "cell_type": "code",
   "execution_count": 12,
   "metadata": {},
   "outputs": [
    {
     "output_type": "stream",
     "name": "stdout",
     "text": [
      "<Element queen at 0x2bcc4e8ad40>\n<Element queen at 0x2bcc50c0740>\n"
     ]
    }
   ],
   "source": [
    "# as you can see, both of the methods above give the same result\n",
    "# <Element queen at some_referenced_memory>\n",
    "print(xmltree.getroot())\n",
    "print(xmltree_requests.getroot())"
   ]
  },
  {
   "cell_type": "code",
   "execution_count": 15,
   "metadata": {},
   "outputs": [
    {
     "output_type": "stream",
     "name": "stdout",
     "text": [
      "queen\n"
     ]
    }
   ],
   "source": [
    "# this is the tag name for the root node\n",
    "root = xmltree_requests.getroot()\n",
    "print(root.tag) "
   ]
  },
  {
   "cell_type": "markdown",
   "metadata": {},
   "source": [
    "### Traversing an XML Tree\n",
    "- Iterate over the elements of the tree (like a linked-list traversal for those who know what this is).\n",
    "- Use `.get()` to get the name of the title (much like the `dict.get()` method)\n",
    "- Use the `attrib` attribute to get the list of all the attributes\n",
    "- You can also index the locations of the element to access specific child nodes."
   ]
  },
  {
   "cell_type": "code",
   "execution_count": 18,
   "metadata": {},
   "outputs": [
    {
     "output_type": "execute_result",
     "data": {
      "text/plain": [
       "{'title': 'Queen Elizabeth II', 'marriedTo': 'Philip, Duke of Edinburgh'}"
      ]
     },
     "metadata": {},
     "execution_count": 18
    }
   ],
   "source": [
    "root.attrib"
   ]
  },
  {
   "cell_type": "code",
   "execution_count": 19,
   "metadata": {},
   "outputs": [
    {
     "output_type": "stream",
     "name": "stdout",
     "text": [
      "prince\n{'title': 'Charles, Prince of Wales', 'marriedTo': 'Lady Diana Spencer'}\nCharles, Prince of Wales\nLady Diana Spencer\n\nprincess\n{'title': 'Anne, Princess Royal'}\nAnne, Princess Royal\nNone\n\nprince\n{'title': 'Andrew, Duke of York'}\nAndrew, Duke of York\nNone\n\nprince\n{'title': 'Edward, Earl of Wessex'}\nEdward, Earl of Wessex\nNone\n\n"
     ]
    }
   ],
   "source": [
    "for element in root:\n",
    "    print(element.tag)\n",
    "    print(element.attrib)\n",
    "    print(element.get(\"title\"))\n",
    "    print(element.get(\"marriedTo\"))\n",
    "    print()"
   ]
  },
  {
   "cell_type": "code",
   "execution_count": 20,
   "metadata": {},
   "outputs": [
    {
     "output_type": "execute_result",
     "data": {
      "text/plain": [
       "('prince', 'Charles, Prince of Wales')"
      ]
     },
     "metadata": {},
     "execution_count": 20
    }
   ],
   "source": [
    "# using indexing instead\n",
    "oldest_prince = root[0]\n",
    "\n",
    "# get the title of the 0th child node\n",
    "oldest_prince.tag, oldest_prince.get(\"title\")"
   ]
  },
  {
   "cell_type": "markdown",
   "metadata": {},
   "source": [
    "- If we want to find the **first matching child**, we use `.find()` (like `list.index()`).\n",
    "- Note that this only returns the first match, and not all matches!"
   ]
  },
  {
   "cell_type": "code",
   "execution_count": 22,
   "metadata": {},
   "outputs": [
    {
     "output_type": "execute_result",
     "data": {
      "text/plain": [
       "('princess', 'Anne, Princess Royal')"
      ]
     },
     "metadata": {},
     "execution_count": 22
    }
   ],
   "source": [
    "element = root.find(\"princess\")\n",
    "element.tag, element.get(\"title\")"
   ]
  },
  {
   "cell_type": "markdown",
   "metadata": {},
   "source": [
    "- `iterchildren()` is a function which allows you to iterate over all the children given some tag.\n",
    "- (Advanced) You can further use this to create a generator function to give you a list of all of them.\n",
    "- (Even more advanced) You can use `iterdescendants()` to iterate over all the nodes!"
   ]
  },
  {
   "cell_type": "code",
   "execution_count": 24,
   "metadata": {},
   "outputs": [
    {
     "output_type": "stream",
     "name": "stdout",
     "text": [
      "Anne, Princess Royal\n"
     ]
    }
   ],
   "source": [
    "# iterate and print all the titles of all the princes\n",
    "for child in root.iterchildren(tag=\"princess\"):\n",
    "    print(child.get('title'))"
   ]
  },
  {
   "cell_type": "code",
   "execution_count": null,
   "metadata": {},
   "outputs": [],
   "source": [
    "# creating a generator function\n",
    "[child.get(\"title\") for child in root.iterchildren(tag=\"prince\")]"
   ]
  },
  {
   "cell_type": "code",
   "execution_count": 25,
   "metadata": {},
   "outputs": [
    {
     "output_type": "execute_result",
     "data": {
      "text/plain": [
       "['Charles, Prince of Wales',\n",
       " 'Prince William of Wales',\n",
       " 'Prince Henry of Wales',\n",
       " 'Andrew, Duke of York',\n",
       " 'Edward, Earl of Wessex']"
      ]
     },
     "metadata": {},
     "execution_count": 25
    }
   ],
   "source": [
    "# notice how we get an additional 2 more here\n",
    "[child.get(\"title\") for child in root.iterdescendants(tag=\"prince\")]"
   ]
  },
  {
   "cell_type": "markdown",
   "metadata": {},
   "source": [
    "### Exercise 1"
   ]
  },
  {
   "cell_type": "markdown",
   "metadata": {},
   "source": [
    "Using the `royal.xml`:\n",
    "\n",
    "1. Write Python code to get the title property of queen's grandsons.\n",
    "1. Write Python code to get the full title of the only princess in the family tree."
   ]
  },
  {
   "cell_type": "code",
   "execution_count": 41,
   "metadata": {},
   "outputs": [
    {
     "output_type": "execute_result",
     "data": {
      "text/plain": [
       "['Anne, Princess Royal']"
      ]
     },
     "metadata": {},
     "execution_count": 41
    }
   ],
   "source": [
    "xmltree = etree.parse(\"royal.xml\")\n",
    "root = xmltree.getroot()\n",
    "\n",
    "# answer below\n",
    "# Exercise 1\n",
    "[grandchild.get(\"title\") for child in root.iterchildren() for grandchild in child.iterchildren()]\n",
    "\n",
    "# Exercise 2\n",
    "[girl.get(\"title\") for girl in root.iterchildren(tag=\"princess\")]\n"
   ]
  },
  {
   "cell_type": "markdown",
   "metadata": {},
   "source": [
    "### Accessing XML text\n"
   ]
  },
  {
   "cell_type": "markdown",
   "metadata": {},
   "source": [
    "Let's now use another sample of XML data. Consider the file book.xml\n",
    "\n",
    "```\n",
    "<?xml version=\"1.0\" encoding=\"utf-8\"?>\n",
    "  <book id=\"book001\">\n",
    "    <author>Salinger, J. D.</author>\n",
    "    <title>The Catcher in the Rye</title>\n",
    "    <language>English</language>\n",
    "    <publish_date>1951-07-16</publish_date>\n",
    "    <publisher>Little, Brown and Company</publisher>\n",
    "    <isbn>0-316-76953-3</isbn>\n",
    "    <description>A story about a few important days in the life of Holden Caulfield</description>\n",
    "  </book>\n",
    "```\n",
    "\n",
    "Notice how there are differences with `royal.xml`?\n",
    "- There is now text between the tags (like HTML)\n",
    "\n",
    "To access the text, we need to use the `.text` attribute."
   ]
  },
  {
   "cell_type": "code",
   "execution_count": 42,
   "metadata": {},
   "outputs": [
    {
     "output_type": "stream",
     "name": "stdout",
     "text": [
      "author: Salinger, J. D.\ntitle: The Catcher in the Rye\nlanguage: English\npublish_date: 1951-07-16\npublisher: Little, Brown and Company\nisbn: 0-316-76953-3\ndescription: A story about a few important days in the life of Holden Caulfield\n"
     ]
    }
   ],
   "source": [
    "xmltree = etree.parse('book.xml')\n",
    "root = xmltree.getroot() \n",
    "\n",
    "# method 1 - iteration\n",
    "for child in root:\n",
    "    print(f\"{child.tag}: {child.text}\")"
   ]
  },
  {
   "cell_type": "code",
   "execution_count": 43,
   "metadata": {},
   "outputs": [
    {
     "output_type": "execute_result",
     "data": {
      "text/plain": [
       "[('author', 'Salinger, J. D.'),\n",
       " ('title', 'The Catcher in the Rye'),\n",
       " ('language', 'English'),\n",
       " ('publish_date', '1951-07-16'),\n",
       " ('publisher', 'Little, Brown and Company'),\n",
       " ('isbn', '0-316-76953-3'),\n",
       " ('description',\n",
       "  'A story about a few important days in the life of Holden Caulfield')]"
      ]
     },
     "metadata": {},
     "execution_count": 43
    }
   ],
   "source": [
    "# method 2 - generator function\n",
    "# notice how this kind of looks like the key, value tuples in dict.items()\n",
    "[(child.tag, child.text) for child in root]"
   ]
  },
  {
   "cell_type": "markdown",
   "metadata": {},
   "source": [
    "### Adding data into XML trees\n",
    "- Create a new element with `etree.Element()`\n",
    "- You can also give it attributes, such as `text`\n",
    "- The tree works like a list, so adding new elements uses `.append()`"
   ]
  },
  {
   "cell_type": "code",
   "execution_count": 62,
   "metadata": {},
   "outputs": [],
   "source": [
    "# define a new empty Element\n",
    "new_element = etree.Element('genre')\n",
    "\n",
    "# add text to it\n",
    "new_element.text = 'Novel'\n",
    "\n",
    "root.append(new_element)\n",
    "\n",
    "# now you can see the new ('genre', 'Novel') tuple"
   ]
  },
  {
   "cell_type": "code",
   "execution_count": null,
   "metadata": {},
   "outputs": [],
   "source": [
    "# a one-line method of \"nicely\" printing out that specific element\n",
    "etree.tostring(root[-1], # get the last element\n",
    "               pretty_print=True, # enable pretty printing\n",
    "               encoding='unicode' # specify encoding as unicode\n",
    ")"
   ]
  },
  {
   "cell_type": "markdown",
   "metadata": {},
   "source": [
    "- Additionally, you can create a new XML tree by defining a root element.\n",
    "- Then add new elements using the `SubElement()` method."
   ]
  },
  {
   "cell_type": "code",
   "execution_count": 63,
   "metadata": {},
   "outputs": [
    {
     "output_type": "execute_result",
     "data": {
      "text/plain": [
       "[('price', '23.95'), ('genre', 'Novel'), ('price', '23.95')]"
      ]
     },
     "metadata": {},
     "execution_count": 63
    }
   ],
   "source": [
    "#root = etree.Element('book')\n",
    "\n",
    "#new_element = etree.SubElement(root, 'price')\n",
    "#new_element.text = '23.95'\n",
    "\n",
    "new_element = etree.Element('price')\n",
    "new_element.text = '23.95'\n",
    "root.append(new_element)\n",
    "\n",
    "[(child.tag, child.text) for child in root]"
   ]
  },
  {
   "cell_type": "markdown",
   "metadata": {},
   "source": [
    "(Advanced) To insert a new element at a specific location, use `.insert()` (akin to `list.insert()`)"
   ]
  },
  {
   "cell_type": "code",
   "execution_count": null,
   "metadata": {},
   "outputs": [],
   "source": [
    "new_element = etree.Element(\"country\")\n",
    "root.insert(1, new_element) # insert the new_element at index 1 (root = index 0)\n",
    "root[1].text = \"United States\" # add some text to it\n",
    "\n",
    "[(child.tag, child.text) for child in root]"
   ]
  },
  {
   "cell_type": "markdown",
   "metadata": {},
   "source": [
    "### Serialising XML data\n",
    "- In other words, how to output XML data\n",
    "- We use the `.tostring()` method\n",
    "- **Note:** The `.tostring()` method outputs bytes instead of a Python string"
   ]
  },
  {
   "cell_type": "code",
   "execution_count": 64,
   "metadata": {},
   "outputs": [
    {
     "output_type": "execute_result",
     "data": {
      "text/plain": [
       "b'<book><price>23.95</price><genre>Novel</genre><price>23.95</price></book>'"
      ]
     },
     "metadata": {},
     "execution_count": 64
    }
   ],
   "source": [
    "out = etree.tostring(root, encoding=\"UTF-8\")\n",
    "\n",
    "# notice how the string is b''\n",
    "out"
   ]
  },
  {
   "cell_type": "code",
   "execution_count": 65,
   "metadata": {},
   "outputs": [],
   "source": [
    "# write as bytes \n",
    "with open('output.xml', 'wb') as f:\n",
    "    f.write(out)"
   ]
  },
  {
   "cell_type": "markdown",
   "metadata": {},
   "source": [
    "### Exercise 2"
   ]
  },
  {
   "cell_type": "markdown",
   "metadata": {},
   "source": [
    "- Write Python code to load in the file `\"book.xml\"`, change the ISBN to `\"Unknown\"` and then write out the file to `\"book-new.xml\"`\n",
    "- Do not hardcode and use the index to change it!"
   ]
  },
  {
   "cell_type": "code",
   "execution_count": 95,
   "metadata": {},
   "outputs": [
    {
     "output_type": "stream",
     "name": "stdout",
     "text": [
      "[('author', 'Salinger, J. D.'), ('title', 'The Catcher in the Rye'), ('language', 'English'), ('publish_date', '1951-07-16'), ('publisher', 'Little, Brown and Company'), ('isbn', '0-316-76953-3'), ('description', 'A story about a few important days in the life of Holden Caulfield')]\n"
     ]
    }
   ],
   "source": [
    "xmltree = etree.parse(\"book.xml\")\n",
    "root = xmltree.getroot()\n",
    "\n",
    "print([(child.tag, child.text) for child in root])\n",
    "\n",
    "# answer below\n",
    "\n",
    "for i in range(0, len(root)):\n",
    "    if root[i].tag == 'isbn':\n",
    "        root[i].text = 'Unknown'\n",
    "\n",
    "out2 = etree.tostring(root, encoding=\"UTF-8\")\n",
    "with open('book-new.xml', 'wb') as f:\n",
    "    f.write(out2) \n"
   ]
  },
  {
   "cell_type": "markdown",
   "metadata": {},
   "source": [
    "### JSON\n",
    "- JSON (JavaScript Object Notation) is another common data structure which is supposed to replace the XML data structure.\n",
    "- Works very similar to a Python dictionary.\n",
    "- To parse and read `json` files, we can use the `json` library.\n",
    "- Documentation: https://docs.python.org/3/library/json.html\n",
    "- Tutorial: https://www.w3schools.com/python/python_json.asp"
   ]
  },
  {
   "cell_type": "markdown",
   "metadata": {},
   "source": [
    "### Example (ELI5): Creating JSON files\n",
    "1. Make a Python dictionary with your required structure.\n",
    "2. Convert the *whole* dictionary into a string.\n",
    "3. Done.\n",
    "\n",
    "The reason why we need to do this is because JSON requires **double quotes** for the keys/values.  \n",
    "For example:\n",
    "`{'key': 'value'}` (incorrect) vs `{\"key\": \"value\"}` (correct)"
   ]
  },
  {
   "cell_type": "code",
   "execution_count": 96,
   "metadata": {},
   "outputs": [],
   "source": [
    "str_json = '''\n",
    "{\"id\": \"book001\",\n",
    " \"author\": \"Salinger, J. D.\",\n",
    " \"title\": \"The Catcher in the Rye\",\n",
    " \"price\": \"44.95\",\n",
    " \"language\": \"English\",\n",
    " \"publish_date\": \"1951-07-16\",\n",
    " \"publisher\": \"Little, Brown and Company\",\n",
    " \"isbn\": \"0-316-76953-3\",\n",
    " \"description\": \"A story about a few important days in the life of Holden Caulfield\"\n",
    "}\n",
    "'''"
   ]
  },
  {
   "cell_type": "markdown",
   "metadata": {},
   "source": [
    "Now, we can parse this as a \"proper\" JSON format...\n",
    "\n",
    "#### IMPORTANT\n",
    "- `json.load()` loads a JSON object.\n",
    "- `json.loads()` loads a JSON from string (i.e `json.loadSTRING()`, kind of an ambiguous naming convention)\n",
    "\n",
    "Since we have a string, we should use `.loads()`"
   ]
  },
  {
   "cell_type": "code",
   "execution_count": 97,
   "metadata": {},
   "outputs": [
    {
     "output_type": "execute_result",
     "data": {
      "text/plain": [
       "dict"
      ]
     },
     "metadata": {},
     "execution_count": 97
    }
   ],
   "source": [
    "import json\n",
    "\n",
    "data = json.loads(str_json)\n",
    "type(data)"
   ]
  },
  {
   "cell_type": "markdown",
   "metadata": {},
   "source": [
    "- As you can see, when we parse (load) the JSON data in, it's treated as a dictionary.\n",
    "- Normal dictionary operations apply"
   ]
  },
  {
   "cell_type": "code",
   "execution_count": 98,
   "metadata": {},
   "outputs": [
    {
     "output_type": "execute_result",
     "data": {
      "text/plain": [
       "{'id': 'book001',\n",
       " 'author': 'Salinger, J. D.',\n",
       " 'title': 'The Catcher in the Rye',\n",
       " 'price': '44.95',\n",
       " 'language': 'English',\n",
       " 'publish_date': '1951-07-16',\n",
       " 'publisher': 'Little, Brown and Company',\n",
       " 'isbn': '0-316-76953-3',\n",
       " 'description': 'A story about a few important days in the life of Holden Caulfield'}"
      ]
     },
     "metadata": {},
     "execution_count": 98
    }
   ],
   "source": [
    "data"
   ]
  },
  {
   "cell_type": "code",
   "execution_count": 99,
   "metadata": {},
   "outputs": [
    {
     "output_type": "execute_result",
     "data": {
      "text/plain": [
       "'44.95'"
      ]
     },
     "metadata": {},
     "execution_count": 99
    }
   ],
   "source": [
    "data['price']"
   ]
  },
  {
   "cell_type": "code",
   "execution_count": 100,
   "metadata": {},
   "outputs": [
    {
     "output_type": "execute_result",
     "data": {
      "text/plain": [
       "{'id': 'book001',\n",
       " 'author': 'Salinger, J. D.',\n",
       " 'title': 'The Catcher in the Rye',\n",
       " 'price': '44.95',\n",
       " 'language': 'English',\n",
       " 'publish_date': '1951-07-16',\n",
       " 'publisher': 'Little, Brown and Company',\n",
       " 'isbn': 'Unknown',\n",
       " 'description': 'A story about a few important days in the life of Holden Caulfield'}"
      ]
     },
     "metadata": {},
     "execution_count": 100
    }
   ],
   "source": [
    "data['isbn'] = \"Unknown\"\n",
    "data"
   ]
  },
  {
   "cell_type": "markdown",
   "metadata": {},
   "source": [
    "We can also output this as a \"proper\" JSON format using `.dump()`\n",
    "\n",
    "#### IMPORTANT (like `.loads()`)\n",
    "- `json.dump()` writes a JSON object.\n",
    "- `json.dumps()` writes a JSON to a string (i.e `json.dumpSTRING()`)\n",
    "\n",
    "Since we want to output a JSON object, we should use `.dump()`"
   ]
  },
  {
   "cell_type": "code",
   "execution_count": 101,
   "metadata": {},
   "outputs": [],
   "source": [
    "with open('book.json', 'w') as f:\n",
    "    json.dump(data, f, indent=2) # indent=2 is for \"nicely\" formatting the output"
   ]
  },
  {
   "cell_type": "code",
   "execution_count": null,
   "metadata": {},
   "outputs": [],
   "source": [
    "# if we want to output a string representation\n",
    "json.dumps(data)\n",
    "\n",
    "# this is more useful if we are sending a POST request (sending JSON data online)"
   ]
  },
  {
   "cell_type": "code",
   "execution_count": 102,
   "metadata": {},
   "outputs": [
    {
     "output_type": "execute_result",
     "data": {
      "text/plain": [
       "{'id': 'book001',\n",
       " 'author': 'Salinger, J. D.',\n",
       " 'title': 'The Catcher in the Rye',\n",
       " 'price': '44.95',\n",
       " 'language': 'English',\n",
       " 'publish_date': '1951-07-16',\n",
       " 'publisher': 'Little, Brown and Company',\n",
       " 'isbn': 'Unknown',\n",
       " 'description': 'A story about a few important days in the life of Holden Caulfield'}"
      ]
     },
     "metadata": {},
     "execution_count": 102
    }
   ],
   "source": [
    "# Since we have a JSON object saved now... \n",
    "# we use .load()\n",
    "with open('book.json') as f:\n",
    "    data = json.load(f)\n",
    "data"
   ]
  },
  {
   "cell_type": "markdown",
   "metadata": {},
   "source": [
    "### Exercise 3\n",
    "- Add Spanish and German to the JSON file above as two extra languages represented as an array. \n",
    "- Save this file as `book2.json`. \n",
    "- Validate it on [JSONLint](https://jsonlint.com/?code=)."
   ]
  },
  {
   "cell_type": "code",
   "execution_count": 106,
   "metadata": {},
   "outputs": [],
   "source": [
    "import json \n",
    "\n",
    "data[\"language\"] = [\"English\", \"Spanish\", \"German\"]\n",
    "data\n",
    "# answer below\n",
    "\n",
    "with open('book2.json', 'w') as f:\n",
    "    json.dump(data, f, indent=4)\n"
   ]
  },
  {
   "cell_type": "markdown",
   "metadata": {},
   "source": [
    "### Exercise 4 (In your own time)\n",
    "- Modify the publish date parameter. \n",
    "- Make this an array of two objects that have properties of edition (`\"first\"`, `\"second\"`) and date (`\"1951-07-16\"`,`\"1979-01-01\"`) respectively. \n",
    "- Save this file as `book3.json`."
   ]
  },
  {
   "cell_type": "code",
   "execution_count": 110,
   "metadata": {},
   "outputs": [],
   "source": [
    "# answer below\n",
    "first = {\"edition\":\"first\", \"date\":\"1951-07-16\"}\n",
    "second = {\"edition\":\"second\", \"date\":\"1979-01-01\"}\n",
    "data[\"publish_date\"] = [first, second]\n",
    "\n",
    "with open('book3.json', 'w') as f:\n",
    "    json.dump(data, f, indent=4)"
   ]
  },
  {
   "cell_type": "markdown",
   "metadata": {},
   "source": [
    "### Additional Task: Git Resources \n",
    "Local Machines:\n",
    "- Use either `git` (command line) or GitHub Desktop (nice UI)\n",
    "\n",
    "Server:\n",
    "- Only `git` (command line)\n",
    "\n",
    "(From the Lab):\n",
    "- Please go throuh the git PDF manual uploaded on Canvas. \n",
    "- The manual will help you to get familiar with the commands used when working with git repository.\n",
    "- You can also access a git tutorial video using this link : https://canvas.lms.unimelb.edu.au/courses/107611/files/6845808?module_item_id=2714691 \n",
    "\n",
    "How to clone my repo onto JupyterLab Server and get changes:\n",
    "- `git clone https://github.com/akiratwang/COMP20008` (clone the repo, don't include the `.git` at the end)\n",
    "- `cd COMP20008` (change directory inside the repo)\n",
    "- `git pull` (pull new changes) OR `git fetch` (pull new changes and overwrite all your changes)\n",
    "\n",
    "Other commands:\n",
    "- `git add .` (add all changes in `.`, where `.` is the root folder)\n",
    "- `git commit -m MESSAGE` (commit all changes with a message as a string in double quotes)\n",
    "- `git push` (push changes online)\n",
    "- `git pull` (pull online changes - make sure inside the repository)"
   ]
  },
  {
   "cell_type": "code",
   "execution_count": null,
   "metadata": {},
   "outputs": [],
   "source": [
    "# cell to clear the notebook of output files\n",
    "import os\n",
    "\n",
    "for f in ['book.json', 'book2.json', 'book3.json', 'book-new.xml', 'output.xml']:\n",
    "    try:\n",
    "        os.remove(f)\n",
    "    except FileNotFoundError:\n",
    "        print(\"Already gone.\")"
   ]
  }
 ],
 "metadata": {
  "kernelspec": {
   "name": "python394jvsc74a57bd0b957dbe11676a874aab21e7d053542141370a5a965f8567de3523a758c7a7b8e",
   "display_name": "Python 3.9.4 64-bit"
  },
  "language_info": {
   "codemirror_mode": {
    "name": "ipython",
    "version": 3
   },
   "file_extension": ".py",
   "mimetype": "text/x-python",
   "name": "python",
   "nbconvert_exporter": "python",
   "pygments_lexer": "ipython3",
   "version": "3.9.4-final"
  },
  "varInspector": {
   "cols": {
    "lenName": 16,
    "lenType": 16,
    "lenVar": 40
   },
   "kernels_config": {
    "python": {
     "delete_cmd_postfix": "",
     "delete_cmd_prefix": "del ",
     "library": "var_list.py",
     "varRefreshCmd": "print(var_dic_list())"
    },
    "r": {
     "delete_cmd_postfix": ") ",
     "delete_cmd_prefix": "rm(",
     "library": "var_list.r",
     "varRefreshCmd": "cat(var_dic_list()) "
    }
   },
   "types_to_exclude": [
    "module",
    "function",
    "builtin_function_or_method",
    "instance",
    "_Feature"
   ],
   "window_display": false
  },
  "metadata": {
   "interpreter": {
    "hash": "b957dbe11676a874aab21e7d053542141370a5a965f8567de3523a758c7a7b8e"
   }
  }
 },
 "nbformat": 4,
 "nbformat_minor": 4
}